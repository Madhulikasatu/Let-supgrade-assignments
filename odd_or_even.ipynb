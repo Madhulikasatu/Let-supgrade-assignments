{
  "nbformat": 4,
  "nbformat_minor": 0,
  "metadata": {
    "colab": {
      "provenance": [],
      "authorship_tag": "ABX9TyPFaY3dcxVxHU0hY7JFwNuH",
      "include_colab_link": true
    },
    "kernelspec": {
      "name": "python3",
      "display_name": "Python 3"
    },
    "language_info": {
      "name": "python"
    }
  },
  "cells": [
    {
      "cell_type": "markdown",
      "metadata": {
        "id": "view-in-github",
        "colab_type": "text"
      },
      "source": [
        "<a href=\"https://colab.research.google.com/github/Madhulikasatu/Let-supgrade-assignments/blob/main/odd_or_even.ipynb\" target=\"_parent\"><img src=\"https://colab.research.google.com/assets/colab-badge.svg\" alt=\"Open In Colab\"/></a>"
      ]
    },
    {
      "cell_type": "code",
      "execution_count": 1,
      "metadata": {
        "colab": {
          "base_uri": "https://localhost:8080/"
        },
        "id": "PNG7nCYyikdt",
        "outputId": "7bca3fa7-4097-481e-df24-39285c1dadfe"
      },
      "outputs": [
        {
          "output_type": "stream",
          "name": "stdout",
          "text": [
            "3\n",
            "Odd!\n"
          ]
        }
      ],
      "source": [
        "def evenodd(x):\n",
        "    if(x%2==0):\n",
        "        print('Even!')\n",
        "    else:\n",
        "        print('Odd!')\n",
        "x=int(input())\n",
        "evenodd(x)"
      ]
    }
  ]
}